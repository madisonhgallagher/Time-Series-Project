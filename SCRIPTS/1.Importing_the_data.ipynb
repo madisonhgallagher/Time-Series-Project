{
  "nbformat": 4,
  "nbformat_minor": 0,
  "metadata": {
    "colab": {
      "provenance": []
    },
    "kernelspec": {
      "name": "python3",
      "display_name": "Python 3"
    },
    "language_info": {
      "name": "python"
    }
  },
  "cells": [
    {
      "cell_type": "code",
      "execution_count": null,
      "metadata": {
        "id": "AzEIlXZPSjvN"
      },
      "outputs": [],
      "source": [
        "import pandas as pd\n",
        "\n",
        "# Load each CSV file into a DataFrame\n",
        "df1 = pd.read_csv(\"ad_viz_plotval_data (1).csv\")\n",
        "df2 = pd.read_csv(\"ad_viz_plotval_data (2).csv\")\n",
        "df3 = pd.read_csv(\"ad_viz_plotval_data.csv\")\n"
      ]
    },
    {
      "cell_type": "code",
      "source": [
        "combined_df = pd.concat([df1, df2, df3], ignore_index=True)\n"
      ],
      "metadata": {
        "id": "SXcJpGlzTgHU"
      },
      "execution_count": null,
      "outputs": []
    },
    {
      "cell_type": "code",
      "source": [
        "combined_df['Date'] = pd.to_datetime(combined_df['Date'])\n"
      ],
      "metadata": {
        "id": "rZlVgXhUTj8q"
      },
      "execution_count": null,
      "outputs": []
    },
    {
      "cell_type": "code",
      "source": [
        "combined_df = combined_df.sort_values(by='Date')\n"
      ],
      "metadata": {
        "id": "I3LQl386UMqx"
      },
      "execution_count": null,
      "outputs": []
    },
    {
      "cell_type": "code",
      "source": [
        "print(combined_df.head())\n"
      ],
      "metadata": {
        "colab": {
          "base_uri": "https://localhost:8080/"
        },
        "id": "tIhKlOteUPdr",
        "outputId": "519a773d-8bcf-4c7c-dbeb-2f9d641d3d34"
      },
      "execution_count": null,
      "outputs": [
        {
          "output_type": "stream",
          "name": "stdout",
          "text": [
            "           Date Source   Site ID  POC  Daily Mean PM10 Concentration  \\\n",
            "841  2022-01-01    AQS  60374006    3                             39   \n",
            "462  2022-01-01    AQS  60371103    3                             21   \n",
            "2027 2022-01-01    AQS  60590007    3                             18   \n",
            "1199 2022-01-01    AQS  60374009    3                             24   \n",
            "43   2022-01-01    AQS  60370016    3                             13   \n",
            "\n",
            "         Units  Daily AQI Value                Local Site Name  \\\n",
            "841   ug/m3 SC               36            Long Beach (Hudson)   \n",
            "462   ug/m3 SC               19  Los Angeles-North Main Street   \n",
            "2027  ug/m3 SC               17                        Anaheim   \n",
            "1199  ug/m3 SC               22             Signal Hill (LBSH)   \n",
            "43    ug/m3 SC               12                       Glendora   \n",
            "\n",
            "      Daily Obs Count  Percent Complete  ...  AQS Parameter Description  \\\n",
            "841                 1             100.0  ...      PM10 Total 0-10um STP   \n",
            "462                 1             100.0  ...      PM10 Total 0-10um STP   \n",
            "2027                1             100.0  ...      PM10 Total 0-10um STP   \n",
            "1199                1             100.0  ...      PM10 Total 0-10um STP   \n",
            "43                  1             100.0  ...      PM10 Total 0-10um STP   \n",
            "\n",
            "     Method Code  CBSA Code                           CBSA Name  \\\n",
            "841        122.0      31080  Los Angeles-Long Beach-Anaheim, CA   \n",
            "462        122.0      31080  Los Angeles-Long Beach-Anaheim, CA   \n",
            "2027       122.0      31080  Los Angeles-Long Beach-Anaheim, CA   \n",
            "1199       122.0      31080  Los Angeles-Long Beach-Anaheim, CA   \n",
            "43         122.0      31080  Los Angeles-Long Beach-Anaheim, CA   \n",
            "\n",
            "     State FIPS Code       State County FIPS Code       County Site Latitude  \\\n",
            "841                6  California               37  Los Angeles     33.802500   \n",
            "462                6  California               37  Los Angeles     34.066590   \n",
            "2027               6  California               59       Orange     33.830620   \n",
            "1199               6  California               37  Los Angeles     33.793713   \n",
            "43                 6  California               37  Los Angeles     34.144350   \n",
            "\n",
            "      Site Longitude  \n",
            "841      -118.220000  \n",
            "462      -118.226880  \n",
            "2027     -117.938450  \n",
            "1199     -118.171019  \n",
            "43       -117.850360  \n",
            "\n",
            "[5 rows x 21 columns]\n"
          ]
        }
      ]
    },
    {
      "cell_type": "code",
      "source": [
        "combined_df['Date'] = pd.to_datetime(combined_df['Date'])\n"
      ],
      "metadata": {
        "id": "yTbb2DF8UX-7"
      },
      "execution_count": null,
      "outputs": []
    },
    {
      "cell_type": "code",
      "source": [
        "daily_avg_df = combined_df.groupby('Date')['Daily Mean PM10 Concentration'].mean().reset_index()\n"
      ],
      "metadata": {
        "id": "PlK9OZOdUlL3"
      },
      "execution_count": null,
      "outputs": []
    },
    {
      "cell_type": "code",
      "source": [
        "print(daily_avg_df.head())\n"
      ],
      "metadata": {
        "colab": {
          "base_uri": "https://localhost:8080/"
        },
        "id": "DD8bBoCmUoa5",
        "outputId": "3290ce52-2801-4b18-d986-c5e1ec182498"
      },
      "execution_count": null,
      "outputs": [
        {
          "output_type": "stream",
          "name": "stdout",
          "text": [
            "        Date  Daily Mean PM10 Concentration\n",
            "0 2022-01-01                      21.166667\n",
            "1 2022-01-02                      14.833333\n",
            "2 2022-01-03                      25.400000\n",
            "3 2022-01-04                      28.800000\n",
            "4 2022-01-05                      34.000000\n"
          ]
        }
      ]
    },
    {
      "cell_type": "code",
      "source": [
        "daily_avg_df.to_csv(\"Daily_Avg_PM10.csv\", index=False)\n"
      ],
      "metadata": {
        "id": "FF5ittRUUrHD"
      },
      "execution_count": null,
      "outputs": []
    }
  ]
}
