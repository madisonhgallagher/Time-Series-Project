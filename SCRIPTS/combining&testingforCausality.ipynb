{
  "nbformat": 4,
  "nbformat_minor": 0,
  "metadata": {
    "colab": {
      "provenance": []
    },
    "kernelspec": {
      "name": "python3",
      "display_name": "Python 3"
    },
    "language_info": {
      "name": "python"
    }
  },
  "cells": [
    {
      "cell_type": "code",
      "execution_count": null,
      "metadata": {
        "id": "BtCsuGMTYMdt"
      },
      "outputs": [],
      "source": [
        "import pandas as pd\n",
        "from statsmodels.tsa.stattools import grangercausalitytests\n"
      ]
    },
    {
      "cell_type": "code",
      "source": [
        "df_co = pd.read_csv(\"Daily_Avg_CO.csv\")\n",
        "df_ozone = pd.read_csv(\"Daily_Avg_Ozone.csv\")\n",
        "df_pm25 = pd.read_csv(\"Daily_Avg_PM2.5.csv\")\n",
        "df_pm10 = pd.read_csv(\"Daily_Avg_PM10.csv\")\n",
        "\n",
        "\n"
      ],
      "metadata": {
        "id": "vXWls9BCZQnh"
      },
      "execution_count": null,
      "outputs": []
    },
    {
      "cell_type": "code",
      "source": [
        "print(df_co.columns)\n",
        "print(df_ozone.columns)\n",
        "print(df_pm25.columns)\n",
        "print(df_pm10.columns)\n"
      ],
      "metadata": {
        "colab": {
          "base_uri": "https://localhost:8080/"
        },
        "id": "Edwm0DuGZTmt",
        "outputId": "f2b812f2-7528-4fb6-c870-f92e77e2abc4"
      },
      "execution_count": null,
      "outputs": [
        {
          "output_type": "stream",
          "name": "stdout",
          "text": [
            "Index(['Date', 'Daily Max 8-hour CO Concentration'], dtype='object')\n",
            "Index(['Date', 'Daily Max 8-hour Ozone Concentration'], dtype='object')\n",
            "Index(['Date', 'Daily Mean PM2.5 Concentration'], dtype='object')\n",
            "Index(['Date', 'Daily Mean PM10 Concentration'], dtype='object')\n"
          ]
        }
      ]
    },
    {
      "cell_type": "code",
      "source": [
        "for df in [df_co, df_ozone, df_pm25, df_pm10]:\n",
        "    df['Date'] = pd.to_datetime(df['Date'])\n",
        "    df.set_index('Date', inplace=True)\n"
      ],
      "metadata": {
        "id": "tCVSmBJfaN9V"
      },
      "execution_count": null,
      "outputs": []
    },
    {
      "cell_type": "code",
      "source": [
        "combined_df = pd.concat([df_co, df_ozone, df_pm25, df_pm10], axis=1)\n",
        "combined_df.dropna(inplace=True)  # Drop rows with missing values\n"
      ],
      "metadata": {
        "id": "ueN54KcwaT1D"
      },
      "execution_count": null,
      "outputs": []
    },
    {
      "cell_type": "code",
      "source": [
        "variable_pairs = [\n",
        "    ('Daily Mean PM2.5 Concentration', 'Daily Max 8-hour CO Concentration'),\n",
        "    ('Daily Max 8-hour Ozone Concentration', 'Daily Max 8-hour CO Concentration'),\n",
        "    ('Daily Mean PM2.5 Concentration', 'Daily Max 8-hour Ozone Concentration'),\n",
        "    ('Daily Mean PM2.5 Concentration', 'Daily Mean PM10 Concentration'),\n",
        "    ('Daily Mean PM10 Concentration', 'Daily Max 8-hour CO Concentration')\n",
        "]\n"
      ],
      "metadata": {
        "id": "aaUfFIRJaVZQ"
      },
      "execution_count": null,
      "outputs": []
    },
    {
      "cell_type": "code",
      "source": [
        "max_lag = 5  # Maximum number of lags to test\n",
        "\n",
        "for x, y in variable_pairs:\n",
        "    print(f\"\\nTesting if {x} Granger-causes {y}\")\n",
        "    result = grangercausalitytests(combined_df[[y, x]], max_lag, verbose=True)\n"
      ],
      "metadata": {
        "colab": {
          "base_uri": "https://localhost:8080/"
        },
        "id": "iNZBvpBGaXNI",
        "outputId": "3cc90a10-06b0-4766-d325-c3f14f9708c7"
      },
      "execution_count": null,
      "outputs": [
        {
          "output_type": "stream",
          "name": "stdout",
          "text": [
            "\n",
            "Testing if Daily Mean PM2.5 Concentration Granger-causes Daily Max 8-hour CO Concentration\n",
            "\n",
            "Granger Causality\n",
            "number of lags (no zero) 1\n",
            "ssr based F test:         F=26.0556 , p=0.0000  , df_denom=1030, df_num=1\n",
            "ssr based chi2 test:   chi2=26.1315 , p=0.0000  , df=1\n",
            "likelihood ratio test: chi2=25.8064 , p=0.0000  , df=1\n",
            "parameter F test:         F=26.0556 , p=0.0000  , df_denom=1030, df_num=1\n",
            "\n",
            "Granger Causality\n",
            "number of lags (no zero) 2\n",
            "ssr based F test:         F=17.3505 , p=0.0000  , df_denom=1027, df_num=2\n",
            "ssr based chi2 test:   chi2=34.8699 , p=0.0000  , df=2\n",
            "likelihood ratio test: chi2=34.2938 , p=0.0000  , df=2\n",
            "parameter F test:         F=17.3505 , p=0.0000  , df_denom=1027, df_num=2\n",
            "\n",
            "Granger Causality\n",
            "number of lags (no zero) 3\n",
            "ssr based F test:         F=11.1408 , p=0.0000  , df_denom=1024, df_num=3\n",
            "ssr based chi2 test:   chi2=33.6509 , p=0.0000  , df=3\n",
            "likelihood ratio test: chi2=33.1134 , p=0.0000  , df=3\n",
            "parameter F test:         F=11.1408 , p=0.0000  , df_denom=1024, df_num=3\n",
            "\n",
            "Granger Causality\n",
            "number of lags (no zero) 4\n",
            "ssr based F test:         F=7.8502  , p=0.0000  , df_denom=1021, df_num=4\n",
            "ssr based chi2 test:   chi2=31.6778 , p=0.0000  , df=4\n",
            "likelihood ratio test: chi2=31.2004 , p=0.0000  , df=4\n",
            "parameter F test:         F=7.8502  , p=0.0000  , df_denom=1021, df_num=4\n",
            "\n",
            "Granger Causality\n",
            "number of lags (no zero) 5\n",
            "ssr based F test:         F=5.5472  , p=0.0000  , df_denom=1018, df_num=5\n",
            "ssr based chi2 test:   chi2=28.0356 , p=0.0000  , df=5\n",
            "likelihood ratio test: chi2=27.6605 , p=0.0000  , df=5\n",
            "parameter F test:         F=5.5472  , p=0.0000  , df_denom=1018, df_num=5\n",
            "\n",
            "Testing if Daily Max 8-hour Ozone Concentration Granger-causes Daily Max 8-hour CO Concentration\n",
            "\n",
            "Granger Causality\n",
            "number of lags (no zero) 1\n",
            "ssr based F test:         F=29.2649 , p=0.0000  , df_denom=1030, df_num=1\n",
            "ssr based chi2 test:   chi2=29.3501 , p=0.0000  , df=1\n",
            "likelihood ratio test: chi2=28.9409 , p=0.0000  , df=1\n",
            "parameter F test:         F=29.2649 , p=0.0000  , df_denom=1030, df_num=1\n",
            "\n",
            "Granger Causality\n",
            "number of lags (no zero) 2\n",
            "ssr based F test:         F=30.6347 , p=0.0000  , df_denom=1027, df_num=2\n",
            "ssr based chi2 test:   chi2=61.5678 , p=0.0000  , df=2\n",
            "likelihood ratio test: chi2=59.8012 , p=0.0000  , df=2\n",
            "parameter F test:         F=30.6347 , p=0.0000  , df_denom=1027, df_num=2\n",
            "\n",
            "Granger Causality\n",
            "number of lags (no zero) 3\n",
            "ssr based F test:         F=18.6734 , p=0.0000  , df_denom=1024, df_num=3\n",
            "ssr based chi2 test:   chi2=56.4030 , p=0.0000  , df=3\n",
            "likelihood ratio test: chi2=54.9142 , p=0.0000  , df=3\n",
            "parameter F test:         F=18.6734 , p=0.0000  , df_denom=1024, df_num=3\n",
            "\n",
            "Granger Causality\n",
            "number of lags (no zero) 4\n",
            "ssr based F test:         F=13.6836 , p=0.0000  , df_denom=1021, df_num=4\n",
            "ssr based chi2 test:   chi2=55.2168 , p=0.0000  , df=4\n",
            "likelihood ratio test: chi2=53.7876 , p=0.0000  , df=4\n",
            "parameter F test:         F=13.6836 , p=0.0000  , df_denom=1021, df_num=4\n",
            "\n",
            "Granger Causality\n",
            "number of lags (no zero) 5\n",
            "ssr based F test:         F=9.2775  , p=0.0000  , df_denom=1018, df_num=5\n",
            "ssr based chi2 test:   chi2=46.8889 , p=0.0000  , df=5\n",
            "likelihood ratio test: chi2=45.8519 , p=0.0000  , df=5\n",
            "parameter F test:         F=9.2775  , p=0.0000  , df_denom=1018, df_num=5\n",
            "\n",
            "Testing if Daily Mean PM2.5 Concentration Granger-causes Daily Max 8-hour Ozone Concentration\n",
            "\n",
            "Granger Causality\n",
            "number of lags (no zero) 1\n",
            "ssr based F test:         F=9.5198  , p=0.0021  , df_denom=1030, df_num=1\n",
            "ssr based chi2 test:   chi2=9.5475  , p=0.0020  , df=1\n",
            "likelihood ratio test: chi2=9.5037  , p=0.0021  , df=1\n",
            "parameter F test:         F=9.5198  , p=0.0021  , df_denom=1030, df_num=1\n",
            "\n",
            "Granger Causality\n",
            "number of lags (no zero) 2\n",
            "ssr based F test:         F=7.7372  , p=0.0005  , df_denom=1027, df_num=2\n",
            "ssr based chi2 test:   chi2=15.5497 , p=0.0004  , df=2\n",
            "likelihood ratio test: chi2=15.4337 , p=0.0004  , df=2\n",
            "parameter F test:         F=7.7372  , p=0.0005  , df_denom=1027, df_num=2\n",
            "\n",
            "Granger Causality\n",
            "number of lags (no zero) 3\n",
            "ssr based F test:         F=5.3104  , p=0.0012  , df_denom=1024, df_num=3\n",
            "ssr based chi2 test:   chi2=16.0402 , p=0.0011  , df=3\n",
            "likelihood ratio test: chi2=15.9167 , p=0.0012  , df=3\n",
            "parameter F test:         F=5.3104  , p=0.0012  , df_denom=1024, df_num=3\n",
            "\n",
            "Granger Causality\n",
            "number of lags (no zero) 4\n",
            "ssr based F test:         F=3.7399  , p=0.0050  , df_denom=1021, df_num=4\n",
            "ssr based chi2 test:   chi2=15.0913 , p=0.0045  , df=4\n",
            "likelihood ratio test: chi2=14.9818 , p=0.0047  , df=4\n",
            "parameter F test:         F=3.7399  , p=0.0050  , df_denom=1021, df_num=4\n",
            "\n",
            "Granger Causality\n",
            "number of lags (no zero) 5\n",
            "ssr based F test:         F=2.8314  , p=0.0151  , df_denom=1018, df_num=5\n",
            "ssr based chi2 test:   chi2=14.3099 , p=0.0138  , df=5\n",
            "likelihood ratio test: chi2=14.2113 , p=0.0143  , df=5\n",
            "parameter F test:         F=2.8314  , p=0.0151  , df_denom=1018, df_num=5\n",
            "\n",
            "Testing if Daily Mean PM2.5 Concentration Granger-causes Daily Mean PM10 Concentration\n",
            "\n",
            "Granger Causality\n",
            "number of lags (no zero) 1\n",
            "ssr based F test:         F=0.9039  , p=0.3420  , df_denom=1030, df_num=1\n",
            "ssr based chi2 test:   chi2=0.9065  , p=0.3410  , df=1\n",
            "likelihood ratio test: chi2=0.9061  , p=0.3411  , df=1\n",
            "parameter F test:         F=0.9039  , p=0.3420  , df_denom=1030, df_num=1\n",
            "\n",
            "Granger Causality\n",
            "number of lags (no zero) 2\n",
            "ssr based F test:         F=4.6756  , p=0.0095  , df_denom=1027, df_num=2\n",
            "ssr based chi2 test:   chi2=9.3966  , p=0.0091  , df=2\n",
            "likelihood ratio test: chi2=9.3541  , p=0.0093  , df=2\n",
            "parameter F test:         F=4.6756  , p=0.0095  , df_denom=1027, df_num=2\n",
            "\n",
            "Granger Causality\n",
            "number of lags (no zero) 3\n",
            "ssr based F test:         F=4.1447  , p=0.0062  , df_denom=1024, df_num=3\n",
            "ssr based chi2 test:   chi2=12.5190 , p=0.0058  , df=3\n",
            "likelihood ratio test: chi2=12.4436 , p=0.0060  , df=3\n",
            "parameter F test:         F=4.1447  , p=0.0062  , df_denom=1024, df_num=3\n",
            "\n",
            "Granger Causality\n",
            "number of lags (no zero) 4\n",
            "ssr based F test:         F=3.0275  , p=0.0170  , df_denom=1021, df_num=4\n",
            "ssr based chi2 test:   chi2=12.2169 , p=0.0158  , df=4\n",
            "likelihood ratio test: chi2=12.1450 , p=0.0163  , df=4\n",
            "parameter F test:         F=3.0275  , p=0.0170  , df_denom=1021, df_num=4\n",
            "\n",
            "Granger Causality\n",
            "number of lags (no zero) 5\n"
          ]
        },
        {
          "output_type": "stream",
          "name": "stderr",
          "text": [
            "/usr/local/lib/python3.11/dist-packages/statsmodels/tsa/stattools.py:1556: FutureWarning: verbose is deprecated since functions should not print results\n",
            "  warnings.warn(\n",
            "/usr/local/lib/python3.11/dist-packages/statsmodels/tsa/stattools.py:1556: FutureWarning: verbose is deprecated since functions should not print results\n",
            "  warnings.warn(\n",
            "/usr/local/lib/python3.11/dist-packages/statsmodels/tsa/stattools.py:1556: FutureWarning: verbose is deprecated since functions should not print results\n",
            "  warnings.warn(\n",
            "/usr/local/lib/python3.11/dist-packages/statsmodels/tsa/stattools.py:1556: FutureWarning: verbose is deprecated since functions should not print results\n",
            "  warnings.warn(\n"
          ]
        },
        {
          "output_type": "stream",
          "name": "stdout",
          "text": [
            "ssr based F test:         F=2.2889  , p=0.0440  , df_denom=1018, df_num=5\n",
            "ssr based chi2 test:   chi2=11.5680 , p=0.0412  , df=5\n",
            "likelihood ratio test: chi2=11.5035 , p=0.0423  , df=5\n",
            "parameter F test:         F=2.2889  , p=0.0440  , df_denom=1018, df_num=5\n",
            "\n",
            "Testing if Daily Mean PM10 Concentration Granger-causes Daily Max 8-hour CO Concentration\n",
            "\n",
            "Granger Causality\n",
            "number of lags (no zero) 1\n",
            "ssr based F test:         F=2.0828  , p=0.1493  , df_denom=1030, df_num=1\n",
            "ssr based chi2 test:   chi2=2.0888  , p=0.1484  , df=1\n",
            "likelihood ratio test: chi2=2.0867  , p=0.1486  , df=1\n",
            "parameter F test:         F=2.0828  , p=0.1493  , df_denom=1030, df_num=1\n",
            "\n",
            "Granger Causality\n",
            "number of lags (no zero) 2\n",
            "ssr based F test:         F=4.8165  , p=0.0083  , df_denom=1027, df_num=2\n",
            "ssr based chi2 test:   chi2=9.6798  , p=0.0079  , df=2\n",
            "likelihood ratio test: chi2=9.6347  , p=0.0081  , df=2\n",
            "parameter F test:         F=4.8165  , p=0.0083  , df_denom=1027, df_num=2\n",
            "\n",
            "Granger Causality\n",
            "number of lags (no zero) 3\n",
            "ssr based F test:         F=4.6178  , p=0.0032  , df_denom=1024, df_num=3\n",
            "ssr based chi2 test:   chi2=13.9480 , p=0.0030  , df=3\n",
            "likelihood ratio test: chi2=13.8545 , p=0.0031  , df=3\n",
            "parameter F test:         F=4.6178  , p=0.0032  , df_denom=1024, df_num=3\n",
            "\n",
            "Granger Causality\n",
            "number of lags (no zero) 4\n",
            "ssr based F test:         F=3.3573  , p=0.0097  , df_denom=1021, df_num=4\n",
            "ssr based chi2 test:   chi2=13.5477 , p=0.0089  , df=4\n",
            "likelihood ratio test: chi2=13.4593 , p=0.0092  , df=4\n",
            "parameter F test:         F=3.3573  , p=0.0097  , df_denom=1021, df_num=4\n",
            "\n",
            "Granger Causality\n",
            "number of lags (no zero) 5\n",
            "ssr based F test:         F=3.2117  , p=0.0070  , df_denom=1018, df_num=5\n",
            "ssr based chi2 test:   chi2=16.2322 , p=0.0062  , df=5\n",
            "likelihood ratio test: chi2=16.1055 , p=0.0065  , df=5\n",
            "parameter F test:         F=3.2117  , p=0.0070  , df_denom=1018, df_num=5\n"
          ]
        },
        {
          "output_type": "stream",
          "name": "stderr",
          "text": [
            "/usr/local/lib/python3.11/dist-packages/statsmodels/tsa/stattools.py:1556: FutureWarning: verbose is deprecated since functions should not print results\n",
            "  warnings.warn(\n"
          ]
        }
      ]
    },
    {
      "cell_type": "markdown",
      "source": [
        "PM2.5 and Ozone appear to have a direct influence on CO concentrations.\n",
        "PM2.5 also seems to have some effect on Ozone and PM10 concentrations, though with more delayed impacts for PM10."
      ],
      "metadata": {
        "id": "JzqKNH6Na-j3"
      }
    },
    {
      "cell_type": "code",
      "source": [],
      "metadata": {
        "id": "c_bJ4gEIa_mc"
      },
      "execution_count": null,
      "outputs": []
    }
  ]
}